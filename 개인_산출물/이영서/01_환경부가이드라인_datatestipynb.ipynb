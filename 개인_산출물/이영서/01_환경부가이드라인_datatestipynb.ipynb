{
  "nbformat": 4,
  "nbformat_minor": 0,
  "metadata": {
    "colab": {
      "name": "01_환경부가이드라인_datatestipynb",
      "provenance": []
    },
    "kernelspec": {
      "name": "python3",
      "display_name": "Python 3"
    },
    "language_info": {
      "name": "python"
    }
  },
  "cells": [
    {
      "cell_type": "markdown",
      "metadata": {
        "id": "ggJybgiq1OgC"
      },
      "source": [
        "# 환경부가이드라인 데이터프레임 조작 및 테스트\n",
        "부차적인 서비스임 "
      ]
    },
    {
      "cell_type": "code",
      "metadata": {
        "id": "PY-gXbPnpc78"
      },
      "source": [
        "import pandas as pd\n",
        "import numpy as np\n",
        "import matplotlib.pyplot as plt"
      ],
      "execution_count": 1,
      "outputs": []
    },
    {
      "cell_type": "code",
      "metadata": {
        "colab": {
          "base_uri": "https://localhost:8080/",
          "height": 204
        },
        "id": "YQFO23BBplgU",
        "outputId": "d8f56684-4279-4836-86df-d86c0bfb7cd5"
      },
      "source": [
        "df = pd.read_excel('환경부 가이드라인.xlsx')\n",
        "df.head()"
      ],
      "execution_count": 2,
      "outputs": [
        {
          "output_type": "execute_result",
          "data": {
            "text/html": [
              "<div>\n",
              "<style scoped>\n",
              "    .dataframe tbody tr th:only-of-type {\n",
              "        vertical-align: middle;\n",
              "    }\n",
              "\n",
              "    .dataframe tbody tr th {\n",
              "        vertical-align: top;\n",
              "    }\n",
              "\n",
              "    .dataframe thead th {\n",
              "        text-align: right;\n",
              "    }\n",
              "</style>\n",
              "<table border=\"1\" class=\"dataframe\">\n",
              "  <thead>\n",
              "    <tr style=\"text-align: right;\">\n",
              "      <th></th>\n",
              "      <th>Unnamed: 0</th>\n",
              "      <th>Unnamed: 1</th>\n",
              "      <th>Unnamed: 2</th>\n",
              "    </tr>\n",
              "  </thead>\n",
              "  <tbody>\n",
              "    <tr>\n",
              "      <th>0</th>\n",
              "      <td>품목</td>\n",
              "      <td>구분</td>\n",
              "      <td>배출방법</td>\n",
              "    </tr>\n",
              "    <tr>\n",
              "      <th>1</th>\n",
              "      <td>가격표</td>\n",
              "      <td>종이</td>\n",
              "      <td>종이류로 배출</td>\n",
              "    </tr>\n",
              "    <tr>\n",
              "      <th>2</th>\n",
              "      <td>가구류</td>\n",
              "      <td>대형</td>\n",
              "      <td>대형폐기물로 배출</td>\n",
              "    </tr>\n",
              "    <tr>\n",
              "      <th>3</th>\n",
              "      <td>가발</td>\n",
              "      <td>종량제봉투</td>\n",
              "      <td>종량제 봉투로 배출</td>\n",
              "    </tr>\n",
              "    <tr>\n",
              "      <th>4</th>\n",
              "      <td>가습기</td>\n",
              "      <td>가전제품</td>\n",
              "      <td>폐가전제품으로 배출</td>\n",
              "    </tr>\n",
              "  </tbody>\n",
              "</table>\n",
              "</div>"
            ],
            "text/plain": [
              "  Unnamed: 0 Unnamed: 1  Unnamed: 2\n",
              "0         품목         구분        배출방법\n",
              "1       가격표          종이     종이류로 배출\n",
              "2       가구류          대형   대형폐기물로 배출\n",
              "3        가발       종량제봉투  종량제 봉투로 배출\n",
              "4       가습기        가전제품  폐가전제품으로 배출"
            ]
          },
          "metadata": {},
          "execution_count": 2
        }
      ]
    },
    {
      "cell_type": "code",
      "metadata": {
        "id": "ztT6H0dApsNG"
      },
      "source": [
        "df.columns = df.iloc[0]\n",
        "df.drop(0, inplace=True)"
      ],
      "execution_count": 3,
      "outputs": []
    },
    {
      "cell_type": "code",
      "metadata": {
        "colab": {
          "base_uri": "https://localhost:8080/",
          "height": 204
        },
        "id": "ltV24hHRpy-r",
        "outputId": "b7c0df6f-5fcd-416f-8fc5-cad088b2e328"
      },
      "source": [
        "df.reset_index(inplace=True)\n",
        "del df['index']\n",
        "df.head()"
      ],
      "execution_count": 4,
      "outputs": [
        {
          "output_type": "execute_result",
          "data": {
            "text/html": [
              "<div>\n",
              "<style scoped>\n",
              "    .dataframe tbody tr th:only-of-type {\n",
              "        vertical-align: middle;\n",
              "    }\n",
              "\n",
              "    .dataframe tbody tr th {\n",
              "        vertical-align: top;\n",
              "    }\n",
              "\n",
              "    .dataframe thead th {\n",
              "        text-align: right;\n",
              "    }\n",
              "</style>\n",
              "<table border=\"1\" class=\"dataframe\">\n",
              "  <thead>\n",
              "    <tr style=\"text-align: right;\">\n",
              "      <th></th>\n",
              "      <th>품목</th>\n",
              "      <th>구분</th>\n",
              "      <th>배출방법</th>\n",
              "    </tr>\n",
              "  </thead>\n",
              "  <tbody>\n",
              "    <tr>\n",
              "      <th>0</th>\n",
              "      <td>가격표</td>\n",
              "      <td>종이</td>\n",
              "      <td>종이류로 배출</td>\n",
              "    </tr>\n",
              "    <tr>\n",
              "      <th>1</th>\n",
              "      <td>가구류</td>\n",
              "      <td>대형</td>\n",
              "      <td>대형폐기물로 배출</td>\n",
              "    </tr>\n",
              "    <tr>\n",
              "      <th>2</th>\n",
              "      <td>가발</td>\n",
              "      <td>종량제봉투</td>\n",
              "      <td>종량제 봉투로 배출</td>\n",
              "    </tr>\n",
              "    <tr>\n",
              "      <th>3</th>\n",
              "      <td>가습기</td>\n",
              "      <td>가전제품</td>\n",
              "      <td>폐가전제품으로 배출</td>\n",
              "    </tr>\n",
              "    <tr>\n",
              "      <th>4</th>\n",
              "      <td>가위</td>\n",
              "      <td>종량제봉투, 재질별분리</td>\n",
              "      <td>재질에 맞게 배출하되, 여러재질이 섞인 경우, 종량제 봉투로 배출</td>\n",
              "    </tr>\n",
              "  </tbody>\n",
              "</table>\n",
              "</div>"
            ],
            "text/plain": [
              "0    품목            구분                                  배출방법\n",
              "0  가격표             종이                               종이류로 배출\n",
              "1  가구류             대형                             대형폐기물로 배출\n",
              "2   가발          종량제봉투                            종량제 봉투로 배출\n",
              "3  가습기           가전제품                            폐가전제품으로 배출\n",
              "4   가위   종량제봉투, 재질별분리  재질에 맞게 배출하되, 여러재질이 섞인 경우, 종량제 봉투로 배출"
            ]
          },
          "metadata": {},
          "execution_count": 4
        }
      ]
    },
    {
      "cell_type": "code",
      "metadata": {
        "id": "yRpHdwTiyyCH"
      },
      "source": [
        "# 품목column에 공백이 포함되어 있어 사용자의 질문에서 단어를 찾기위해서는 공백제거가 필요함 \n",
        "item_list = df['품목'].tolist()\n",
        "item_list = [i.strip() for i in item_list]"
      ],
      "execution_count": 5,
      "outputs": []
    },
    {
      "cell_type": "code",
      "metadata": {
        "colab": {
          "base_uri": "https://localhost:8080/"
        },
        "id": "gIt69alZz995",
        "outputId": "16708289-6167-4361-b826-5475d8ba6bc5"
      },
      "source": [
        "df['품목'] = item_list\n",
        "df['품목'].sample(5)"
      ],
      "execution_count": 6,
      "outputs": [
        {
          "output_type": "execute_result",
          "data": {
            "text/plain": [
              "165    앨범\n",
              "36      낫\n",
              "260    칫솔\n",
              "281    쿠션\n",
              "77      못\n",
              "Name: 품목, dtype: object"
            ]
          },
          "metadata": {},
          "execution_count": 6
        }
      ]
    },
    {
      "cell_type": "code",
      "metadata": {
        "id": "FU8ycX11aD-c"
      },
      "source": [
        "# 공백 제거 \n",
        "df.isnull().sum()\n",
        "df.dropna(inplace=True)"
      ],
      "execution_count": 7,
      "outputs": []
    },
    {
      "cell_type": "markdown",
      "metadata": {
        "id": "NTosECNmmn6T"
      },
      "source": [
        "코드 draft"
      ]
    },
    {
      "cell_type": "code",
      "metadata": {
        "id": "B4DePTXEm5II"
      },
      "source": [
        "question = '가위는 어떻게 분리해?'"
      ],
      "execution_count": 8,
      "outputs": []
    },
    {
      "cell_type": "code",
      "metadata": {
        "colab": {
          "base_uri": "https://localhost:8080/"
        },
        "id": "aCmSwm2kqjOS",
        "outputId": "87aa2935-1c4c-44a7-aea4-9a3540688c64"
      },
      "source": [
        "# 사용자가 요청한 내용이 있는 경우 \n",
        "\n",
        "for i in range(len(df['품목'])):\n",
        "  if df['품목'][i] in question:\n",
        "    print(df['배출방법'][i]+'해주세요')"
      ],
      "execution_count": 9,
      "outputs": [
        {
          "output_type": "stream",
          "name": "stdout",
          "text": [
            "재질에 맞게 배출하되, 여러재질이 섞인 경우, 종량제 봉투로 배출해주세요\n"
          ]
        }
      ]
    },
    {
      "cell_type": "code",
      "metadata": {
        "colab": {
          "base_uri": "https://localhost:8080/"
        },
        "id": "lESQlGO-kAD9",
        "outputId": "62b0b714-bb94-42a3-d79c-2eba639a9571"
      },
      "source": [
        "# 사용자가 요청한 내용이 없는 경우 \n",
        "\n",
        "msg = input('제품명을 입력해주세요: ')\n",
        "if msg in item_list:\n",
        "  df_new = df[df['품목']== msg]\n",
        "  meth = df_new['배출방법']\n",
        "  method = ' ,'.join(map(str, meth))\n",
        "  print(method + '합니다')\n",
        "else:\n",
        "  aw = input('등록되지 않은 제품입니다. 등록하시겠습니까? ')\n",
        "  if aw == '네':                                        # 제품 등록, 파일 업데이트 \n",
        "    f = open(\"update.txt\", 'w')\n",
        "    f.write(msg)\n",
        "    f.close()\n",
        "  else:\n",
        "    print('서비스를 종료합니다.')"
      ],
      "execution_count": 10,
      "outputs": [
        {
          "name": "stdout",
          "output_type": "stream",
          "text": [
            "제품명을 입력해주세요: 면도기\n",
            "등록되어 있지 않는 제품입니다. 등록하시겠습니까? 네\n"
          ]
        }
      ]
    },
    {
      "cell_type": "markdown",
      "metadata": {
        "id": "HVUYdG-KmiqQ"
      },
      "source": [
        "Next❓ 함수로 만들기 >> 두개 함수를 if 문으로 묶을순 없을까?"
      ]
    }
  ]
}