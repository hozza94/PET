{
  "nbformat": 4,
  "nbformat_minor": 0,
  "metadata": {
    "colab": {
      "name": "시각화_서울시폐기물현황.ipynb",
      "provenance": []
    },
    "kernelspec": {
      "name": "python3",
      "display_name": "Python 3"
    },
    "language_info": {
      "name": "python"
    }
  },
  "cells": [
    {
      "cell_type": "markdown",
      "metadata": {
        "id": "CB6KfACWDPZt"
      },
      "source": [
        "# 데이터 시각화 \n",
        "- https://data.seoul.go.kr/dataList/373/S/2/datasetView.do\n",
        "- 서울시 폐기물 재활용 현황 통계 (2019년)"
      ]
    },
    {
      "cell_type": "code",
      "metadata": {
        "id": "iB2OAKDtDP2n"
      },
      "source": [
        "!apt-get install -y fonts-nanum > /dev/null\n",
        "!fc-cache -fv > /dev/null\n",
        "!rm -rf ~/.cache/matplotlib > /dev/null"
      ],
      "execution_count": 1,
      "outputs": []
    },
    {
      "cell_type": "code",
      "metadata": {
        "id": "fXybIOCT4zGb"
      },
      "source": [
        "import pandas as pd \n",
        "import numpy as np\n",
        "import matplotlib.pyplot as plt\n",
        "import matplotlib as mpl\n",
        "\n",
        "# minus 표시\n",
        "mpl.rcParams['axes.unicode_minus']=False\n",
        "plt.rc('font',family='NanumBarunGothic')"
      ],
      "execution_count": 1,
      "outputs": []
    },
    {
      "cell_type": "code",
      "metadata": {
        "id": "RsaBKWe-5CwL"
      },
      "source": [
        "df = pd.read_excel('Report.xls')"
      ],
      "execution_count": 2,
      "outputs": []
    },
    {
      "cell_type": "code",
      "metadata": {
        "colab": {
          "base_uri": "https://localhost:8080/",
          "height": 462
        },
        "id": "_pYjpZHd5Nr3",
        "outputId": "0a7c260c-0666-461f-a218-11518da5e234"
      },
      "source": [
        "df.head()"
      ],
      "execution_count": 3,
      "outputs": [
        {
          "output_type": "execute_result",
          "data": {
            "text/html": [
              "<div>\n",
              "<style scoped>\n",
              "    .dataframe tbody tr th:only-of-type {\n",
              "        vertical-align: middle;\n",
              "    }\n",
              "\n",
              "    .dataframe tbody tr th {\n",
              "        vertical-align: top;\n",
              "    }\n",
              "\n",
              "    .dataframe thead th {\n",
              "        text-align: right;\n",
              "    }\n",
              "</style>\n",
              "<table border=\"1\" class=\"dataframe\">\n",
              "  <thead>\n",
              "    <tr style=\"text-align: right;\">\n",
              "      <th></th>\n",
              "      <th>기간</th>\n",
              "      <th>자치구별</th>\n",
              "      <th>합계</th>\n",
              "      <th>합계.1</th>\n",
              "      <th>생활폐기물</th>\n",
              "      <th>생활폐기물.1</th>\n",
              "      <th>음식물폐기물</th>\n",
              "      <th>음식물폐기물.1</th>\n",
              "      <th>사업장배출 시설계폐기물</th>\n",
              "      <th>사업장배출 시설계폐기물.1</th>\n",
              "      <th>건설폐기물</th>\n",
              "      <th>건설폐기물.1</th>\n",
              "      <th>지정폐기물</th>\n",
              "      <th>지정폐기물.1</th>\n",
              "    </tr>\n",
              "  </thead>\n",
              "  <tbody>\n",
              "    <tr>\n",
              "      <th>0</th>\n",
              "      <td>기간</td>\n",
              "      <td>자치구별</td>\n",
              "      <td>발생량</td>\n",
              "      <td>재활용량</td>\n",
              "      <td>발생량</td>\n",
              "      <td>재활용량</td>\n",
              "      <td>발생량</td>\n",
              "      <td>재활용량</td>\n",
              "      <td>발생량</td>\n",
              "      <td>재활용량</td>\n",
              "      <td>발생량</td>\n",
              "      <td>재활용량</td>\n",
              "      <td>발생량</td>\n",
              "      <td>재활용량</td>\n",
              "    </tr>\n",
              "    <tr>\n",
              "      <th>1</th>\n",
              "      <td>2019</td>\n",
              "      <td>합계</td>\n",
              "      <td>47642.9</td>\n",
              "      <td>42161</td>\n",
              "      <td>7041.1</td>\n",
              "      <td>3729.3</td>\n",
              "      <td>2806.3</td>\n",
              "      <td>2806.1</td>\n",
              "      <td>2303</td>\n",
              "      <td>932.6</td>\n",
              "      <td>35492.5</td>\n",
              "      <td>34693</td>\n",
              "      <td>352.9</td>\n",
              "      <td>74.6</td>\n",
              "    </tr>\n",
              "    <tr>\n",
              "      <th>2</th>\n",
              "      <td>2019</td>\n",
              "      <td>종로구</td>\n",
              "      <td>860.1</td>\n",
              "      <td>728</td>\n",
              "      <td>244.8</td>\n",
              "      <td>124.5</td>\n",
              "      <td>95.1</td>\n",
              "      <td>95.1</td>\n",
              "      <td>0.6</td>\n",
              "      <td>0.2</td>\n",
              "      <td>519.6</td>\n",
              "      <td>508.2</td>\n",
              "      <td>21.9</td>\n",
              "      <td>7.3</td>\n",
              "    </tr>\n",
              "    <tr>\n",
              "      <th>3</th>\n",
              "      <td>2019</td>\n",
              "      <td>중구</td>\n",
              "      <td>1459.8</td>\n",
              "      <td>1265.6</td>\n",
              "      <td>325.9</td>\n",
              "      <td>136.5</td>\n",
              "      <td>87.8</td>\n",
              "      <td>87.8</td>\n",
              "      <td>0.4</td>\n",
              "      <td>0.1</td>\n",
              "      <td>1045.7</td>\n",
              "      <td>1041.2</td>\n",
              "      <td>8.4</td>\n",
              "      <td>2.4</td>\n",
              "    </tr>\n",
              "    <tr>\n",
              "      <th>4</th>\n",
              "      <td>2019</td>\n",
              "      <td>용산구</td>\n",
              "      <td>1137.4</td>\n",
              "      <td>1008.5</td>\n",
              "      <td>234.4</td>\n",
              "      <td>127.8</td>\n",
              "      <td>70.8</td>\n",
              "      <td>70.8</td>\n",
              "      <td>11</td>\n",
              "      <td>7.4</td>\n",
              "      <td>821.2</td>\n",
              "      <td>802.5</td>\n",
              "      <td>3.4</td>\n",
              "      <td>1.1</td>\n",
              "    </tr>\n",
              "  </tbody>\n",
              "</table>\n",
              "</div>"
            ],
            "text/plain": [
              "     기간  자치구별       합계    합계.1  ...    건설폐기물 건설폐기물.1  지정폐기물 지정폐기물.1\n",
              "0    기간  자치구별      발생량    재활용량  ...      발생량    재활용량    발생량    재활용량\n",
              "1  2019    합계  47642.9   42161  ...  35492.5   34693  352.9    74.6\n",
              "2  2019   종로구    860.1     728  ...    519.6   508.2   21.9     7.3\n",
              "3  2019    중구   1459.8  1265.6  ...   1045.7  1041.2    8.4     2.4\n",
              "4  2019   용산구   1137.4  1008.5  ...    821.2   802.5    3.4     1.1\n",
              "\n",
              "[5 rows x 14 columns]"
            ]
          },
          "metadata": {},
          "execution_count": 3
        }
      ]
    },
    {
      "cell_type": "code",
      "metadata": {
        "colab": {
          "base_uri": "https://localhost:8080/",
          "height": 284
        },
        "id": "D03zEKR159vY",
        "outputId": "b921107d-b86a-4d04-fb99-1c78d2500789"
      },
      "source": [
        "df_total = df.loc[[0,1]]\n",
        "df_total"
      ],
      "execution_count": 4,
      "outputs": [
        {
          "output_type": "execute_result",
          "data": {
            "text/html": [
              "<div>\n",
              "<style scoped>\n",
              "    .dataframe tbody tr th:only-of-type {\n",
              "        vertical-align: middle;\n",
              "    }\n",
              "\n",
              "    .dataframe tbody tr th {\n",
              "        vertical-align: top;\n",
              "    }\n",
              "\n",
              "    .dataframe thead th {\n",
              "        text-align: right;\n",
              "    }\n",
              "</style>\n",
              "<table border=\"1\" class=\"dataframe\">\n",
              "  <thead>\n",
              "    <tr style=\"text-align: right;\">\n",
              "      <th></th>\n",
              "      <th>기간</th>\n",
              "      <th>자치구별</th>\n",
              "      <th>합계</th>\n",
              "      <th>합계.1</th>\n",
              "      <th>생활폐기물</th>\n",
              "      <th>생활폐기물.1</th>\n",
              "      <th>음식물폐기물</th>\n",
              "      <th>음식물폐기물.1</th>\n",
              "      <th>사업장배출 시설계폐기물</th>\n",
              "      <th>사업장배출 시설계폐기물.1</th>\n",
              "      <th>건설폐기물</th>\n",
              "      <th>건설폐기물.1</th>\n",
              "      <th>지정폐기물</th>\n",
              "      <th>지정폐기물.1</th>\n",
              "    </tr>\n",
              "  </thead>\n",
              "  <tbody>\n",
              "    <tr>\n",
              "      <th>0</th>\n",
              "      <td>기간</td>\n",
              "      <td>자치구별</td>\n",
              "      <td>발생량</td>\n",
              "      <td>재활용량</td>\n",
              "      <td>발생량</td>\n",
              "      <td>재활용량</td>\n",
              "      <td>발생량</td>\n",
              "      <td>재활용량</td>\n",
              "      <td>발생량</td>\n",
              "      <td>재활용량</td>\n",
              "      <td>발생량</td>\n",
              "      <td>재활용량</td>\n",
              "      <td>발생량</td>\n",
              "      <td>재활용량</td>\n",
              "    </tr>\n",
              "    <tr>\n",
              "      <th>1</th>\n",
              "      <td>2019</td>\n",
              "      <td>합계</td>\n",
              "      <td>47642.9</td>\n",
              "      <td>42161</td>\n",
              "      <td>7041.1</td>\n",
              "      <td>3729.3</td>\n",
              "      <td>2806.3</td>\n",
              "      <td>2806.1</td>\n",
              "      <td>2303</td>\n",
              "      <td>932.6</td>\n",
              "      <td>35492.5</td>\n",
              "      <td>34693</td>\n",
              "      <td>352.9</td>\n",
              "      <td>74.6</td>\n",
              "    </tr>\n",
              "  </tbody>\n",
              "</table>\n",
              "</div>"
            ],
            "text/plain": [
              "     기간  자치구별       합계   합계.1  ...    건설폐기물 건설폐기물.1  지정폐기물 지정폐기물.1\n",
              "0    기간  자치구별      발생량   재활용량  ...      발생량    재활용량    발생량    재활용량\n",
              "1  2019    합계  47642.9  42161  ...  35492.5   34693  352.9    74.6\n",
              "\n",
              "[2 rows x 14 columns]"
            ]
          },
          "metadata": {},
          "execution_count": 4
        }
      ]
    },
    {
      "cell_type": "code",
      "metadata": {
        "id": "mUin__Km6ysv"
      },
      "source": [
        "df_total.columns = df_total.columns + df_total.loc[0]\n",
        "df_total = df_total.drop(0)"
      ],
      "execution_count": 5,
      "outputs": []
    },
    {
      "cell_type": "code",
      "metadata": {
        "colab": {
          "base_uri": "https://localhost:8080/",
          "height": 216
        },
        "id": "RSsnBxN-7u7u",
        "outputId": "bb22ab10-c66f-4477-df0d-69ac574e7648"
      },
      "source": [
        "df_total"
      ],
      "execution_count": 6,
      "outputs": [
        {
          "output_type": "execute_result",
          "data": {
            "text/html": [
              "<div>\n",
              "<style scoped>\n",
              "    .dataframe tbody tr th:only-of-type {\n",
              "        vertical-align: middle;\n",
              "    }\n",
              "\n",
              "    .dataframe tbody tr th {\n",
              "        vertical-align: top;\n",
              "    }\n",
              "\n",
              "    .dataframe thead th {\n",
              "        text-align: right;\n",
              "    }\n",
              "</style>\n",
              "<table border=\"1\" class=\"dataframe\">\n",
              "  <thead>\n",
              "    <tr style=\"text-align: right;\">\n",
              "      <th></th>\n",
              "      <th>기간기간</th>\n",
              "      <th>자치구별자치구별</th>\n",
              "      <th>합계발생량</th>\n",
              "      <th>합계.1재활용량</th>\n",
              "      <th>생활폐기물발생량</th>\n",
              "      <th>생활폐기물.1재활용량</th>\n",
              "      <th>음식물폐기물발생량</th>\n",
              "      <th>음식물폐기물.1재활용량</th>\n",
              "      <th>사업장배출 시설계폐기물발생량</th>\n",
              "      <th>사업장배출 시설계폐기물.1재활용량</th>\n",
              "      <th>건설폐기물발생량</th>\n",
              "      <th>건설폐기물.1재활용량</th>\n",
              "      <th>지정폐기물발생량</th>\n",
              "      <th>지정폐기물.1재활용량</th>\n",
              "    </tr>\n",
              "  </thead>\n",
              "  <tbody>\n",
              "    <tr>\n",
              "      <th>1</th>\n",
              "      <td>2019</td>\n",
              "      <td>합계</td>\n",
              "      <td>47642.9</td>\n",
              "      <td>42161</td>\n",
              "      <td>7041.1</td>\n",
              "      <td>3729.3</td>\n",
              "      <td>2806.3</td>\n",
              "      <td>2806.1</td>\n",
              "      <td>2303</td>\n",
              "      <td>932.6</td>\n",
              "      <td>35492.5</td>\n",
              "      <td>34693</td>\n",
              "      <td>352.9</td>\n",
              "      <td>74.6</td>\n",
              "    </tr>\n",
              "  </tbody>\n",
              "</table>\n",
              "</div>"
            ],
            "text/plain": [
              "   기간기간 자치구별자치구별    합계발생량 합계.1재활용량  ... 건설폐기물발생량 건설폐기물.1재활용량 지정폐기물발생량 지정폐기물.1재활용량\n",
              "1  2019       합계  47642.9    42161  ...  35492.5       34693    352.9        74.6\n",
              "\n",
              "[1 rows x 14 columns]"
            ]
          },
          "metadata": {},
          "execution_count": 6
        }
      ]
    },
    {
      "cell_type": "code",
      "metadata": {
        "id": "-5PbaOTp8JjL"
      },
      "source": [
        "df_total.columns = ['기간', '자치구별', '총발생량', '총재활용량', '생활폐기물발생량', '생활폐기물재활용량',\n",
        "       '음식물폐기물발생량', '음식물폐기물재활용량', '사업장배출 시설계폐기물발생량', '사업장배출 시설계폐기물재활용량',\n",
        "       '건설폐기물발생량', '건설폐기물재활용량', '지정폐기물발생량', '지정폐기물재활용량']"
      ],
      "execution_count": 7,
      "outputs": []
    },
    {
      "cell_type": "code",
      "metadata": {
        "id": "Pbcep7QR8LdM"
      },
      "source": [
        "df_total = df_total.T\n",
        "df_total= df_total.drop(['기간', '자치구별'])\n",
        "df_total.columns = ['발생량']"
      ],
      "execution_count": 8,
      "outputs": []
    },
    {
      "cell_type": "code",
      "metadata": {
        "colab": {
          "base_uri": "https://localhost:8080/",
          "height": 421
        },
        "id": "ZT0EoxMJ9ib-",
        "outputId": "0805495b-9c53-48ca-daec-f986155a8d46"
      },
      "source": [
        "df_total"
      ],
      "execution_count": 9,
      "outputs": [
        {
          "output_type": "execute_result",
          "data": {
            "text/html": [
              "<div>\n",
              "<style scoped>\n",
              "    .dataframe tbody tr th:only-of-type {\n",
              "        vertical-align: middle;\n",
              "    }\n",
              "\n",
              "    .dataframe tbody tr th {\n",
              "        vertical-align: top;\n",
              "    }\n",
              "\n",
              "    .dataframe thead th {\n",
              "        text-align: right;\n",
              "    }\n",
              "</style>\n",
              "<table border=\"1\" class=\"dataframe\">\n",
              "  <thead>\n",
              "    <tr style=\"text-align: right;\">\n",
              "      <th></th>\n",
              "      <th>발생량</th>\n",
              "    </tr>\n",
              "  </thead>\n",
              "  <tbody>\n",
              "    <tr>\n",
              "      <th>총발생량</th>\n",
              "      <td>47642.9</td>\n",
              "    </tr>\n",
              "    <tr>\n",
              "      <th>총재활용량</th>\n",
              "      <td>42161</td>\n",
              "    </tr>\n",
              "    <tr>\n",
              "      <th>생활폐기물발생량</th>\n",
              "      <td>7041.1</td>\n",
              "    </tr>\n",
              "    <tr>\n",
              "      <th>생활폐기물재활용량</th>\n",
              "      <td>3729.3</td>\n",
              "    </tr>\n",
              "    <tr>\n",
              "      <th>음식물폐기물발생량</th>\n",
              "      <td>2806.3</td>\n",
              "    </tr>\n",
              "    <tr>\n",
              "      <th>음식물폐기물재활용량</th>\n",
              "      <td>2806.1</td>\n",
              "    </tr>\n",
              "    <tr>\n",
              "      <th>사업장배출 시설계폐기물발생량</th>\n",
              "      <td>2303</td>\n",
              "    </tr>\n",
              "    <tr>\n",
              "      <th>사업장배출 시설계폐기물재활용량</th>\n",
              "      <td>932.6</td>\n",
              "    </tr>\n",
              "    <tr>\n",
              "      <th>건설폐기물발생량</th>\n",
              "      <td>35492.5</td>\n",
              "    </tr>\n",
              "    <tr>\n",
              "      <th>건설폐기물재활용량</th>\n",
              "      <td>34693</td>\n",
              "    </tr>\n",
              "    <tr>\n",
              "      <th>지정폐기물발생량</th>\n",
              "      <td>352.9</td>\n",
              "    </tr>\n",
              "    <tr>\n",
              "      <th>지정폐기물재활용량</th>\n",
              "      <td>74.6</td>\n",
              "    </tr>\n",
              "  </tbody>\n",
              "</table>\n",
              "</div>"
            ],
            "text/plain": [
              "                      발생량\n",
              "총발생량              47642.9\n",
              "총재활용량               42161\n",
              "생활폐기물발생량           7041.1\n",
              "생활폐기물재활용량          3729.3\n",
              "음식물폐기물발생량          2806.3\n",
              "음식물폐기물재활용량         2806.1\n",
              "사업장배출 시설계폐기물발생량      2303\n",
              "사업장배출 시설계폐기물재활용량    932.6\n",
              "건설폐기물발생량          35492.5\n",
              "건설폐기물재활용량           34693\n",
              "지정폐기물발생량            352.9\n",
              "지정폐기물재활용량            74.6"
            ]
          },
          "metadata": {},
          "execution_count": 9
        }
      ]
    },
    {
      "cell_type": "code",
      "metadata": {
        "colab": {
          "base_uri": "https://localhost:8080/",
          "height": 421
        },
        "id": "3nT5apBT98UN",
        "outputId": "abac2494-4d3b-48dc-99db-fef9d3c4820e"
      },
      "source": [
        "df_total['항목별발생비율'] = [ df_total['발생량'][i] / df_total['발생량'][0]  for i in df_total.index]\n",
        "df_total"
      ],
      "execution_count": 10,
      "outputs": [
        {
          "output_type": "execute_result",
          "data": {
            "text/html": [
              "<div>\n",
              "<style scoped>\n",
              "    .dataframe tbody tr th:only-of-type {\n",
              "        vertical-align: middle;\n",
              "    }\n",
              "\n",
              "    .dataframe tbody tr th {\n",
              "        vertical-align: top;\n",
              "    }\n",
              "\n",
              "    .dataframe thead th {\n",
              "        text-align: right;\n",
              "    }\n",
              "</style>\n",
              "<table border=\"1\" class=\"dataframe\">\n",
              "  <thead>\n",
              "    <tr style=\"text-align: right;\">\n",
              "      <th></th>\n",
              "      <th>발생량</th>\n",
              "      <th>항목별발생비율</th>\n",
              "    </tr>\n",
              "  </thead>\n",
              "  <tbody>\n",
              "    <tr>\n",
              "      <th>총발생량</th>\n",
              "      <td>47642.9</td>\n",
              "      <td>1.000000</td>\n",
              "    </tr>\n",
              "    <tr>\n",
              "      <th>총재활용량</th>\n",
              "      <td>42161</td>\n",
              "      <td>0.884938</td>\n",
              "    </tr>\n",
              "    <tr>\n",
              "      <th>생활폐기물발생량</th>\n",
              "      <td>7041.1</td>\n",
              "      <td>0.147789</td>\n",
              "    </tr>\n",
              "    <tr>\n",
              "      <th>생활폐기물재활용량</th>\n",
              "      <td>3729.3</td>\n",
              "      <td>0.078276</td>\n",
              "    </tr>\n",
              "    <tr>\n",
              "      <th>음식물폐기물발생량</th>\n",
              "      <td>2806.3</td>\n",
              "      <td>0.058903</td>\n",
              "    </tr>\n",
              "    <tr>\n",
              "      <th>음식물폐기물재활용량</th>\n",
              "      <td>2806.1</td>\n",
              "      <td>0.058899</td>\n",
              "    </tr>\n",
              "    <tr>\n",
              "      <th>사업장배출 시설계폐기물발생량</th>\n",
              "      <td>2303</td>\n",
              "      <td>0.048339</td>\n",
              "    </tr>\n",
              "    <tr>\n",
              "      <th>사업장배출 시설계폐기물재활용량</th>\n",
              "      <td>932.6</td>\n",
              "      <td>0.019575</td>\n",
              "    </tr>\n",
              "    <tr>\n",
              "      <th>건설폐기물발생량</th>\n",
              "      <td>35492.5</td>\n",
              "      <td>0.744969</td>\n",
              "    </tr>\n",
              "    <tr>\n",
              "      <th>건설폐기물재활용량</th>\n",
              "      <td>34693</td>\n",
              "      <td>0.728188</td>\n",
              "    </tr>\n",
              "    <tr>\n",
              "      <th>지정폐기물발생량</th>\n",
              "      <td>352.9</td>\n",
              "      <td>0.007407</td>\n",
              "    </tr>\n",
              "    <tr>\n",
              "      <th>지정폐기물재활용량</th>\n",
              "      <td>74.6</td>\n",
              "      <td>0.001566</td>\n",
              "    </tr>\n",
              "  </tbody>\n",
              "</table>\n",
              "</div>"
            ],
            "text/plain": [
              "                      발생량   항목별발생비율\n",
              "총발생량              47642.9  1.000000\n",
              "총재활용량               42161  0.884938\n",
              "생활폐기물발생량           7041.1  0.147789\n",
              "생활폐기물재활용량          3729.3  0.078276\n",
              "음식물폐기물발생량          2806.3  0.058903\n",
              "음식물폐기물재활용량         2806.1  0.058899\n",
              "사업장배출 시설계폐기물발생량      2303  0.048339\n",
              "사업장배출 시설계폐기물재활용량    932.6  0.019575\n",
              "건설폐기물발생량          35492.5  0.744969\n",
              "건설폐기물재활용량           34693  0.728188\n",
              "지정폐기물발생량            352.9  0.007407\n",
              "지정폐기물재활용량            74.6  0.001566"
            ]
          },
          "metadata": {},
          "execution_count": 10
        }
      ]
    },
    {
      "cell_type": "code",
      "metadata": {
        "colab": {
          "base_uri": "https://localhost:8080/",
          "height": 204
        },
        "id": "Yy3Em_CF_JTV",
        "outputId": "e61c6198-c77d-4e5c-ef45-8f60e10b7595"
      },
      "source": [
        "df_t = df_total.T\n",
        "df_t = df_t[['생활폐기물발생량', '음식물폐기물발생량', '사업장배출 시설계폐기물발생량', '건설폐기물발생량', '지정폐기물발생량']]\n",
        "df_t = df_t.T\n",
        "df_t"
      ],
      "execution_count": 15,
      "outputs": [
        {
          "output_type": "execute_result",
          "data": {
            "text/html": [
              "<div>\n",
              "<style scoped>\n",
              "    .dataframe tbody tr th:only-of-type {\n",
              "        vertical-align: middle;\n",
              "    }\n",
              "\n",
              "    .dataframe tbody tr th {\n",
              "        vertical-align: top;\n",
              "    }\n",
              "\n",
              "    .dataframe thead th {\n",
              "        text-align: right;\n",
              "    }\n",
              "</style>\n",
              "<table border=\"1\" class=\"dataframe\">\n",
              "  <thead>\n",
              "    <tr style=\"text-align: right;\">\n",
              "      <th></th>\n",
              "      <th>발생량</th>\n",
              "      <th>항목별발생비율</th>\n",
              "    </tr>\n",
              "  </thead>\n",
              "  <tbody>\n",
              "    <tr>\n",
              "      <th>생활폐기물발생량</th>\n",
              "      <td>7041.1</td>\n",
              "      <td>0.147789</td>\n",
              "    </tr>\n",
              "    <tr>\n",
              "      <th>음식물폐기물발생량</th>\n",
              "      <td>2806.3</td>\n",
              "      <td>0.0589028</td>\n",
              "    </tr>\n",
              "    <tr>\n",
              "      <th>사업장배출 시설계폐기물발생량</th>\n",
              "      <td>2303</td>\n",
              "      <td>0.0483388</td>\n",
              "    </tr>\n",
              "    <tr>\n",
              "      <th>건설폐기물발생량</th>\n",
              "      <td>35492.5</td>\n",
              "      <td>0.744969</td>\n",
              "    </tr>\n",
              "    <tr>\n",
              "      <th>지정폐기물발생량</th>\n",
              "      <td>352.9</td>\n",
              "      <td>0.00740719</td>\n",
              "    </tr>\n",
              "  </tbody>\n",
              "</table>\n",
              "</div>"
            ],
            "text/plain": [
              "                     발생량     항목별발생비율\n",
              "생활폐기물발생량          7041.1    0.147789\n",
              "음식물폐기물발생량         2806.3   0.0589028\n",
              "사업장배출 시설계폐기물발생량     2303   0.0483388\n",
              "건설폐기물발생량         35492.5    0.744969\n",
              "지정폐기물발생량           352.9  0.00740719"
            ]
          },
          "metadata": {},
          "execution_count": 15
        }
      ]
    },
    {
      "cell_type": "code",
      "metadata": {
        "colab": {
          "base_uri": "https://localhost:8080/",
          "height": 320
        },
        "id": "dCxIqSZoCtxp",
        "outputId": "bc45a1f9-dee2-458f-ab17-d2f9fdf100e7"
      },
      "source": [
        "# 항목별 발생 비율 그래프 시각화\n",
        "df_t['항목별발생비율'].plot.pie(figsize=(10,5))"
      ],
      "execution_count": 16,
      "outputs": [
        {
          "output_type": "execute_result",
          "data": {
            "text/plain": [
              "<matplotlib.axes._subplots.AxesSubplot at 0x7f8bb002a650>"
            ]
          },
          "metadata": {},
          "execution_count": 16
        },
        {
          "output_type": "display_data",
          "data": {
            "image/png": "[encoded data removed]",
            "text/plain": [
              "<Figure size 720x360 with 1 Axes>"
            ]
          },
          "metadata": {}
        }
      ]
    },
    {
      "cell_type": "code",
      "metadata": {
        "id": "hCiI-_MbCxdS"
      },
      "source": [
        "df_rec = df_total.T\n",
        "df_rec = df_rec[['총재활용량', '생활폐기물재활용량', '음식물폐기물재활용량','사업장배출 시설계폐기물재활용량', '건설폐기물재활용량','지정폐기물재활용량']]"
      ],
      "execution_count": 31,
      "outputs": []
    },
    {
      "cell_type": "code",
      "metadata": {
        "id": "IENil9LuHPMZ"
      },
      "source": [
        "df_rec = df_rec.T"
      ],
      "execution_count": 32,
      "outputs": []
    },
    {
      "cell_type": "code",
      "metadata": {
        "colab": {
          "base_uri": "https://localhost:8080/",
          "height": 235
        },
        "id": "hhCYdyMHIBT4",
        "outputId": "30bc960a-5632-4de2-f8ca-da281934067e"
      },
      "source": [
        "df_rec"
      ],
      "execution_count": 33,
      "outputs": [
        {
          "output_type": "execute_result",
          "data": {
            "text/html": [
              "<div>\n",
              "<style scoped>\n",
              "    .dataframe tbody tr th:only-of-type {\n",
              "        vertical-align: middle;\n",
              "    }\n",
              "\n",
              "    .dataframe tbody tr th {\n",
              "        vertical-align: top;\n",
              "    }\n",
              "\n",
              "    .dataframe thead th {\n",
              "        text-align: right;\n",
              "    }\n",
              "</style>\n",
              "<table border=\"1\" class=\"dataframe\">\n",
              "  <thead>\n",
              "    <tr style=\"text-align: right;\">\n",
              "      <th></th>\n",
              "      <th>발생량</th>\n",
              "      <th>항목별발생비율</th>\n",
              "    </tr>\n",
              "  </thead>\n",
              "  <tbody>\n",
              "    <tr>\n",
              "      <th>총재활용량</th>\n",
              "      <td>42161</td>\n",
              "      <td>0.884938</td>\n",
              "    </tr>\n",
              "    <tr>\n",
              "      <th>생활폐기물재활용량</th>\n",
              "      <td>3729.3</td>\n",
              "      <td>0.0782761</td>\n",
              "    </tr>\n",
              "    <tr>\n",
              "      <th>음식물폐기물재활용량</th>\n",
              "      <td>2806.1</td>\n",
              "      <td>0.0588986</td>\n",
              "    </tr>\n",
              "    <tr>\n",
              "      <th>사업장배출 시설계폐기물재활용량</th>\n",
              "      <td>932.6</td>\n",
              "      <td>0.0195748</td>\n",
              "    </tr>\n",
              "    <tr>\n",
              "      <th>건설폐기물재활용량</th>\n",
              "      <td>34693</td>\n",
              "      <td>0.728188</td>\n",
              "    </tr>\n",
              "    <tr>\n",
              "      <th>지정폐기물재활용량</th>\n",
              "      <td>74.6</td>\n",
              "      <td>0.00156582</td>\n",
              "    </tr>\n",
              "  </tbody>\n",
              "</table>\n",
              "</div>"
            ],
            "text/plain": [
              "                     발생량     항목별발생비율\n",
              "총재활용량              42161    0.884938\n",
              "생활폐기물재활용량         3729.3   0.0782761\n",
              "음식물폐기물재활용량        2806.1   0.0588986\n",
              "사업장배출 시설계폐기물재활용량   932.6   0.0195748\n",
              "건설폐기물재활용량          34693    0.728188\n",
              "지정폐기물재활용량           74.6  0.00156582"
            ]
          },
          "metadata": {},
          "execution_count": 33
        }
      ]
    },
    {
      "cell_type": "code",
      "metadata": {
        "colab": {
          "base_uri": "https://localhost:8080/",
          "height": 235
        },
        "id": "vkLDADeVIG1G",
        "outputId": "e7026982-9a40-44d5-9a93-6fdabcda8419"
      },
      "source": [
        "df_rec['재활용비율'] = [ df_rec['발생량'].loc[i]/df_rec['발생량'][0] for i in df_rec.index ]\n",
        "df_rec"
      ],
      "execution_count": 34,
      "outputs": [
        {
          "output_type": "execute_result",
          "data": {
            "text/html": [
              "<div>\n",
              "<style scoped>\n",
              "    .dataframe tbody tr th:only-of-type {\n",
              "        vertical-align: middle;\n",
              "    }\n",
              "\n",
              "    .dataframe tbody tr th {\n",
              "        vertical-align: top;\n",
              "    }\n",
              "\n",
              "    .dataframe thead th {\n",
              "        text-align: right;\n",
              "    }\n",
              "</style>\n",
              "<table border=\"1\" class=\"dataframe\">\n",
              "  <thead>\n",
              "    <tr style=\"text-align: right;\">\n",
              "      <th></th>\n",
              "      <th>발생량</th>\n",
              "      <th>항목별발생비율</th>\n",
              "      <th>재활용비율</th>\n",
              "    </tr>\n",
              "  </thead>\n",
              "  <tbody>\n",
              "    <tr>\n",
              "      <th>총재활용량</th>\n",
              "      <td>42161</td>\n",
              "      <td>0.884938</td>\n",
              "      <td>1.000000</td>\n",
              "    </tr>\n",
              "    <tr>\n",
              "      <th>생활폐기물재활용량</th>\n",
              "      <td>3729.3</td>\n",
              "      <td>0.0782761</td>\n",
              "      <td>0.088454</td>\n",
              "    </tr>\n",
              "    <tr>\n",
              "      <th>음식물폐기물재활용량</th>\n",
              "      <td>2806.1</td>\n",
              "      <td>0.0588986</td>\n",
              "      <td>0.066557</td>\n",
              "    </tr>\n",
              "    <tr>\n",
              "      <th>사업장배출 시설계폐기물재활용량</th>\n",
              "      <td>932.6</td>\n",
              "      <td>0.0195748</td>\n",
              "      <td>0.022120</td>\n",
              "    </tr>\n",
              "    <tr>\n",
              "      <th>건설폐기물재활용량</th>\n",
              "      <td>34693</td>\n",
              "      <td>0.728188</td>\n",
              "      <td>0.822869</td>\n",
              "    </tr>\n",
              "    <tr>\n",
              "      <th>지정폐기물재활용량</th>\n",
              "      <td>74.6</td>\n",
              "      <td>0.00156582</td>\n",
              "      <td>0.001769</td>\n",
              "    </tr>\n",
              "  </tbody>\n",
              "</table>\n",
              "</div>"
            ],
            "text/plain": [
              "                     발생량     항목별발생비율     재활용비율\n",
              "총재활용량              42161    0.884938  1.000000\n",
              "생활폐기물재활용량         3729.3   0.0782761  0.088454\n",
              "음식물폐기물재활용량        2806.1   0.0588986  0.066557\n",
              "사업장배출 시설계폐기물재활용량   932.6   0.0195748  0.022120\n",
              "건설폐기물재활용량          34693    0.728188  0.822869\n",
              "지정폐기물재활용량           74.6  0.00156582  0.001769"
            ]
          },
          "metadata": {},
          "execution_count": 34
        }
      ]
    },
    {
      "cell_type": "code",
      "metadata": {
        "colab": {
          "base_uri": "https://localhost:8080/",
          "height": 204
        },
        "id": "-hrk_AGgJA0I",
        "outputId": "7566f0fa-15de-4ffa-ebdc-dfa47107d75e"
      },
      "source": [
        "df_rec1= df_rec.drop('총재활용량')\n",
        "df_rec1"
      ],
      "execution_count": 35,
      "outputs": [
        {
          "output_type": "execute_result",
          "data": {
            "text/html": [
              "<div>\n",
              "<style scoped>\n",
              "    .dataframe tbody tr th:only-of-type {\n",
              "        vertical-align: middle;\n",
              "    }\n",
              "\n",
              "    .dataframe tbody tr th {\n",
              "        vertical-align: top;\n",
              "    }\n",
              "\n",
              "    .dataframe thead th {\n",
              "        text-align: right;\n",
              "    }\n",
              "</style>\n",
              "<table border=\"1\" class=\"dataframe\">\n",
              "  <thead>\n",
              "    <tr style=\"text-align: right;\">\n",
              "      <th></th>\n",
              "      <th>발생량</th>\n",
              "      <th>항목별발생비율</th>\n",
              "      <th>재활용비율</th>\n",
              "    </tr>\n",
              "  </thead>\n",
              "  <tbody>\n",
              "    <tr>\n",
              "      <th>생활폐기물재활용량</th>\n",
              "      <td>3729.3</td>\n",
              "      <td>0.0782761</td>\n",
              "      <td>0.088454</td>\n",
              "    </tr>\n",
              "    <tr>\n",
              "      <th>음식물폐기물재활용량</th>\n",
              "      <td>2806.1</td>\n",
              "      <td>0.0588986</td>\n",
              "      <td>0.066557</td>\n",
              "    </tr>\n",
              "    <tr>\n",
              "      <th>사업장배출 시설계폐기물재활용량</th>\n",
              "      <td>932.6</td>\n",
              "      <td>0.0195748</td>\n",
              "      <td>0.022120</td>\n",
              "    </tr>\n",
              "    <tr>\n",
              "      <th>건설폐기물재활용량</th>\n",
              "      <td>34693</td>\n",
              "      <td>0.728188</td>\n",
              "      <td>0.822869</td>\n",
              "    </tr>\n",
              "    <tr>\n",
              "      <th>지정폐기물재활용량</th>\n",
              "      <td>74.6</td>\n",
              "      <td>0.00156582</td>\n",
              "      <td>0.001769</td>\n",
              "    </tr>\n",
              "  </tbody>\n",
              "</table>\n",
              "</div>"
            ],
            "text/plain": [
              "                     발생량     항목별발생비율     재활용비율\n",
              "생활폐기물재활용량         3729.3   0.0782761  0.088454\n",
              "음식물폐기물재활용량        2806.1   0.0588986  0.066557\n",
              "사업장배출 시설계폐기물재활용량   932.6   0.0195748  0.022120\n",
              "건설폐기물재활용량          34693    0.728188  0.822869\n",
              "지정폐기물재활용량           74.6  0.00156582  0.001769"
            ]
          },
          "metadata": {},
          "execution_count": 35
        }
      ]
    },
    {
      "cell_type": "code",
      "metadata": {
        "colab": {
          "base_uri": "https://localhost:8080/",
          "height": 320
        },
        "id": "voFIkcmmIkDI",
        "outputId": "d3e2fed4-2953-4ef4-8d0d-c6b4ad63a7d7"
      },
      "source": [
        "# 항목별 재활용 비율 시각화 \n",
        "df_rec1['재활용비율'].plot.pie(figsize=(10,5))"
      ],
      "execution_count": 37,
      "outputs": [
        {
          "output_type": "execute_result",
          "data": {
            "text/plain": [
              "<matplotlib.axes._subplots.AxesSubplot at 0x7f8baaf10890>"
            ]
          },
          "metadata": {},
          "execution_count": 37
        },
        {
          "output_type": "display_data",
          "data": {
            "image/png": "[encoded data removed]",
            "text/plain": [
              "<Figure size 720x360 with 1 Axes>"
            ]
          },
          "metadata": {}
        }
      ]
    },
    {
      "cell_type": "code",
      "metadata": {
        "colab": {
          "base_uri": "https://localhost:8080/"
        },
        "id": "v3cNZN9CIvwq",
        "outputId": "da1bb887-bd23-40cc-a3dd-94b85600e366"
      },
      "source": [
        "# 생활폐기물 재활용량 \n",
        "df_total['발생량'][3]/df_total['발생량'][2]"
      ],
      "execution_count": 42,
      "outputs": [
        {
          "output_type": "execute_result",
          "data": {
            "text/plain": [
              "0.5296473562369516"
            ]
          },
          "metadata": {},
          "execution_count": 42
        }
      ]
    },
    {
      "cell_type": "code",
      "metadata": {
        "id": "HwkZKPj6KQLF"
      },
      "source": [
        ""
      ],
      "execution_count": null,
      "outputs": []
    }
  ]
}