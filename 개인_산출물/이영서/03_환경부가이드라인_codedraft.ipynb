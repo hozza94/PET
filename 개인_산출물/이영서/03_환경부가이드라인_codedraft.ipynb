{
  "nbformat": 4,
  "nbformat_minor": 0,
  "metadata": {
    "colab": {
      "name": "03_환경부가이드라인_codedraft.ipynb",
      "provenance": []
    },
    "kernelspec": {
      "name": "python3",
      "display_name": "Python 3"
    },
    "language_info": {
      "name": "python"
    }
  },
  "cells": [
    {
      "cell_type": "markdown",
      "metadata": {
        "id": "PBG3YANaYVHf"
      },
      "source": [
        "# 데이터 프레임 코드 (draft)"
      ]
    },
    {
      "cell_type": "code",
      "metadata": {
        "colab": {
          "base_uri": "https://localhost:8080/"
        },
        "id": "V2wAGyXBWQAw",
        "outputId": "ee844782-4ece-4cce-905f-e5ad297b554c"
      },
      "source": [
        "from google.colab import drive\n",
        "drive.mount('/gdrive', force_remount=True)\n",
        "drive.mount('/content/drive')"
      ],
      "execution_count": null,
      "outputs": [
        {
          "output_type": "stream",
          "name": "stdout",
          "text": [
            "Mounted at /gdrive\n",
            "Mounted at /content/drive\n"
          ]
        }
      ]
    },
    {
      "cell_type": "code",
      "metadata": {
        "id": "6x3HgFIKWw5i"
      },
      "source": [
        "# 파일 불러오기 \n",
        "guide = '/content/drive/MyDrive/Data/환경부가이드라인_전처리완.csv'"
      ],
      "execution_count": null,
      "outputs": []
    },
    {
      "cell_type": "code",
      "metadata": {
        "id": "czsV8JnGXPMZ"
      },
      "source": [
        "import pandas as pd\n",
        "import numpy as np\n",
        "import matplotlib.pyplot as plt"
      ],
      "execution_count": null,
      "outputs": []
    },
    {
      "cell_type": "code",
      "metadata": {
        "id": "brUXY2SeXU08"
      },
      "source": [
        "df = pd.read_csv(guide)\n",
        "del df['Unnamed: 0']"
      ],
      "execution_count": null,
      "outputs": []
    },
    {
      "cell_type": "code",
      "metadata": {
        "colab": {
          "base_uri": "https://localhost:8080/",
          "height": 204
        },
        "id": "xAbE5jhbXbGB",
        "outputId": "97755533-60c5-4d55-8c20-6329998fd4a9"
      },
      "source": [
        "df.head()"
      ],
      "execution_count": null,
      "outputs": [
        {
          "output_type": "execute_result",
          "data": {
            "text/html": [
              "<div>\n",
              "<style scoped>\n",
              "    .dataframe tbody tr th:only-of-type {\n",
              "        vertical-align: middle;\n",
              "    }\n",
              "\n",
              "    .dataframe tbody tr th {\n",
              "        vertical-align: top;\n",
              "    }\n",
              "\n",
              "    .dataframe thead th {\n",
              "        text-align: right;\n",
              "    }\n",
              "</style>\n",
              "<table border=\"1\" class=\"dataframe\">\n",
              "  <thead>\n",
              "    <tr style=\"text-align: right;\">\n",
              "      <th></th>\n",
              "      <th>품목</th>\n",
              "      <th>구분</th>\n",
              "      <th>배출방법</th>\n",
              "    </tr>\n",
              "  </thead>\n",
              "  <tbody>\n",
              "    <tr>\n",
              "      <th>0</th>\n",
              "      <td>가격표</td>\n",
              "      <td>종이</td>\n",
              "      <td>종이류로 배출</td>\n",
              "    </tr>\n",
              "    <tr>\n",
              "      <th>1</th>\n",
              "      <td>가구류</td>\n",
              "      <td>대형</td>\n",
              "      <td>대형폐기물로 배출</td>\n",
              "    </tr>\n",
              "    <tr>\n",
              "      <th>2</th>\n",
              "      <td>가발</td>\n",
              "      <td>종량제봉투</td>\n",
              "      <td>종량제 봉투로 배출</td>\n",
              "    </tr>\n",
              "    <tr>\n",
              "      <th>3</th>\n",
              "      <td>가습기</td>\n",
              "      <td>가전제품</td>\n",
              "      <td>폐가전제품으로 배출</td>\n",
              "    </tr>\n",
              "    <tr>\n",
              "      <th>4</th>\n",
              "      <td>가위</td>\n",
              "      <td>종량제봉투, 재질별분리</td>\n",
              "      <td>재질에 맞게 배출하되, 여러재질이 섞인 경우, 종량제 봉투로 배출</td>\n",
              "    </tr>\n",
              "  </tbody>\n",
              "</table>\n",
              "</div>"
            ],
            "text/plain": [
              "    품목            구분                                  배출방법\n",
              "0  가격표            종이                               종이류로 배출\n",
              "1  가구류            대형                             대형폐기물로 배출\n",
              "2   가발         종량제봉투                            종량제 봉투로 배출\n",
              "3  가습기          가전제품                            폐가전제품으로 배출\n",
              "4   가위  종량제봉투, 재질별분리  재질에 맞게 배출하되, 여러재질이 섞인 경우, 종량제 봉투로 배출"
            ]
          },
          "metadata": {},
          "execution_count": 5
        }
      ]
    },
    {
      "cell_type": "code",
      "metadata": {
        "id": "6bAyJnEHYG3N"
      },
      "source": [
        "# 품목 리스트 생성 \n",
        "item_list = df['품목'].tolist()"
      ],
      "execution_count": null,
      "outputs": []
    },
    {
      "cell_type": "code",
      "metadata": {
        "id": "JtR9_GFiX4Rt"
      },
      "source": [
        "question = '일회용는 어떻게 분리해?'\n",
        "\n",
        "# 사용자가 요청한 내용이 있는 경우 \n",
        "\n",
        "for i in range(len(df['품목'])):\n",
        "  if df['품목'][i] in question:\n",
        "    print(df['배출방법'][i]+'해주세요')"
      ],
      "execution_count": null,
      "outputs": []
    },
    {
      "cell_type": "code",
      "metadata": {
        "colab": {
          "base_uri": "https://localhost:8080/"
        },
        "id": "gxcB2MFmX57f",
        "outputId": "9771d2e8-f5ce-4c90-b939-d3a00a3af3c9"
      },
      "source": [
        "# 사용자가 요청한 내용이 없는 경우 - txt 파일로 저장\n",
        "\n",
        "msg = input('제품명을 입력해주세요: ')\n",
        "if msg in item_list:                # 음성으로 인식을 못한 경우, 제품명 text로 입력 받기 \n",
        "  df_new = df[df['품목']== msg]\n",
        "  meth = df_new['배출방법']\n",
        "  method = ' ,'.join(map(str, meth))\n",
        "  print(method + '합니다')\n",
        "else:\n",
        "  aw = input('등록되지 않은 제품입니다. 등록하시겠습니까? ')\n",
        "  if aw == '네':                                        # 제품 등록, 파일 업데이트(txt)\n",
        "    f = open(\"update.txt\", 'a')\n",
        "    f.write(msg)\n",
        "    f.close()\n",
        "  else:\n",
        "    print('서비스를 종료합니다.')"
      ],
      "execution_count": null,
      "outputs": [
        {
          "name": "stdout",
          "output_type": "stream",
          "text": [
            "제품명을 입력해주세요: 면도기\n",
            "등록되지 않은 제품입니다. 등록하시겠습니까? 네\n"
          ]
        }
      ]
    },
    {
      "cell_type": "code",
      "metadata": {
        "colab": {
          "base_uri": "https://localhost:8080/"
        },
        "id": "p31NkQUSX724",
        "outputId": "c6936b3b-c1e9-4799-d7d9-3a890274df0a"
      },
      "source": [
        "# 사용자가 요청한 내용이 없는 경우 - 데이터프레임 업데이트 \n",
        "\n",
        "msg = input('제품명을 입력해주세요: ')    # (1) 음성으로 인식을 못한 경우, 제품명 text로 입력 받기 \n",
        "if msg in item_list:                \n",
        "  df_new = df[df['품목']== msg]\n",
        "  meth = df_new['배출방법']\n",
        "  method = ' ,'.join(map(str, meth))\n",
        "  print(method + '합니다')\n",
        "else:                     # (2) 등록되지 않은 경우       \n",
        "  aw = input('등록되지 않은 제품입니다. 등록하시겠습니까? ')\n",
        "  if aw == '네': \n",
        "    new_data = {'품목': msg, \n",
        "                '구분': '',\n",
        "                '배출방법':''}\n",
        "    df = df.append(new_data, ignore_index=True)  # 제품 등록, 파일 업데이트 (txt)\n",
        "  else:\n",
        "    print('서비스를 종료합니다.')"
      ],
      "execution_count": null,
      "outputs": [
        {
          "output_type": "stream",
          "name": "stdout",
          "text": [
            "제품명을 입력해주세요: 가위\n",
            "재질에 맞게 배출하되, 여러재질이 섞인 경우, 종량제 봉투로 배출합니다\n"
          ]
        }
      ]
    },
    {
      "cell_type": "code",
      "metadata": {
        "id": "oOe8pCmIYTLZ"
      },
      "source": [
        ""
      ],
      "execution_count": null,
      "outputs": []
    }
  ]
}