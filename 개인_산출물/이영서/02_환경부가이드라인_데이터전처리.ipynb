{
  "nbformat": 4,
  "nbformat_minor": 0,
  "metadata": {
    "colab": {
      "name": "02_환경부가이드라인_데이터전처리.ipynb",
      "provenance": []
    },
    "kernelspec": {
      "name": "python3",
      "display_name": "Python 3"
    },
    "language_info": {
      "name": "python"
    }
  },
  "cells": [
    {
      "cell_type": "markdown",
      "metadata": {
        "id": "jAr5tiXTy6mO"
      },
      "source": [
        "# 환경부가이드라인 데이터전처리\n"
      ]
    },
    {
      "cell_type": "code",
      "metadata": {
        "id": "2kUw15Znxe2Z"
      },
      "source": [
        "import pandas as pd\n",
        "import numpy as np\n",
        "import matplotlib.pyplot as plt"
      ],
      "execution_count": 1,
      "outputs": []
    },
    {
      "cell_type": "markdown",
      "metadata": {
        "id": "v70RLF5lzCtt"
      },
      "source": [
        "전처리 완료된 데이터"
      ]
    },
    {
      "cell_type": "code",
      "metadata": {
        "colab": {
          "base_uri": "https://localhost:8080/",
          "height": 204
        },
        "id": "sIhg1kRaxjUa",
        "outputId": "b662d986-9e69-4d5e-dd6c-82e628caaac6"
      },
      "source": [
        "df = pd.read_csv('환경부가이드라인.csv')\n",
        "df.head()"
      ],
      "execution_count": 5,
      "outputs": [
        {
          "output_type": "execute_result",
          "data": {
            "text/html": [
              "<div>\n",
              "<style scoped>\n",
              "    .dataframe tbody tr th:only-of-type {\n",
              "        vertical-align: middle;\n",
              "    }\n",
              "\n",
              "    .dataframe tbody tr th {\n",
              "        vertical-align: top;\n",
              "    }\n",
              "\n",
              "    .dataframe thead th {\n",
              "        text-align: right;\n",
              "    }\n",
              "</style>\n",
              "<table border=\"1\" class=\"dataframe\">\n",
              "  <thead>\n",
              "    <tr style=\"text-align: right;\">\n",
              "      <th></th>\n",
              "      <th>품목</th>\n",
              "      <th>구분</th>\n",
              "      <th>배출방법</th>\n",
              "    </tr>\n",
              "  </thead>\n",
              "  <tbody>\n",
              "    <tr>\n",
              "      <th>0</th>\n",
              "      <td>가격표</td>\n",
              "      <td>종이</td>\n",
              "      <td>종이류로 배출</td>\n",
              "    </tr>\n",
              "    <tr>\n",
              "      <th>1</th>\n",
              "      <td>가구류</td>\n",
              "      <td>대형</td>\n",
              "      <td>대형폐기물로 배출</td>\n",
              "    </tr>\n",
              "    <tr>\n",
              "      <th>2</th>\n",
              "      <td>가발</td>\n",
              "      <td>종량제봉투</td>\n",
              "      <td>종량제 봉투로 배출</td>\n",
              "    </tr>\n",
              "    <tr>\n",
              "      <th>3</th>\n",
              "      <td>가습기</td>\n",
              "      <td>가전제품</td>\n",
              "      <td>폐가전제품으로 배출</td>\n",
              "    </tr>\n",
              "    <tr>\n",
              "      <th>4</th>\n",
              "      <td>가위</td>\n",
              "      <td>종량제봉투, 재질별분리</td>\n",
              "      <td>재질에 맞게 배출하되, 여러재질이 섞인 경우, 종량제 봉투로 배출</td>\n",
              "    </tr>\n",
              "  </tbody>\n",
              "</table>\n",
              "</div>"
            ],
            "text/plain": [
              "     품목            구분                                  배출방법\n",
              "0  가격표             종이                               종이류로 배출\n",
              "1  가구류             대형                             대형폐기물로 배출\n",
              "2   가발          종량제봉투                            종량제 봉투로 배출\n",
              "3  가습기           가전제품                            폐가전제품으로 배출\n",
              "4   가위   종량제봉투, 재질별분리  재질에 맞게 배출하되, 여러재질이 섞인 경우, 종량제 봉투로 배출"
            ]
          },
          "metadata": {},
          "execution_count": 5
        }
      ]
    },
    {
      "cell_type": "code",
      "metadata": {
        "id": "6jqXywTHzbL1"
      },
      "source": [
        "# 품목column에 공백이 포함되어 있어 사용자의 질문에서 단어를 찾기위해서는 공백제거가 필요함 \n",
        "item_list = df['품목'].tolist()\n",
        "item_list = [i.strip() for i in item_list]\n",
        "df['품목'] = item_list"
      ],
      "execution_count": 9,
      "outputs": []
    },
    {
      "cell_type": "markdown",
      "metadata": {
        "id": "pS5LgkJjzr1S"
      },
      "source": [
        "전처리 완료된 데이터 저장"
      ]
    },
    {
      "cell_type": "code",
      "metadata": {
        "id": "4Ij2iC0DzhGZ"
      },
      "source": [
        "df.to_csv('환경부가이드라인_전처리완.csv')"
      ],
      "execution_count": 11,
      "outputs": []
    }
  ]
}