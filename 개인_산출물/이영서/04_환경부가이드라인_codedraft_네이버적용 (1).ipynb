{
  "nbformat": 4,
  "nbformat_minor": 0,
  "metadata": {
    "colab": {
      "name": "04_환경부가이드라인_codedraft_네이버적용.ipynb",
      "provenance": [],
      "collapsed_sections": []
    },
    "kernelspec": {
      "name": "python3",
      "display_name": "Python 3"
    },
    "language_info": {
      "name": "python"
    }
  },
  "cells": [
    {
      "cell_type": "markdown",
      "metadata": {
        "id": "PBG3YANaYVHf"
      },
      "source": [
        "# 데이터 프레임 코드 (draft)"
      ]
    },
    {
      "cell_type": "code",
      "metadata": {
        "id": "V2wAGyXBWQAw",
        "colab": {
          "base_uri": "https://localhost:8080/"
        },
        "outputId": "15b94714-1937-47a2-c592-9349383814aa"
      },
      "source": [
        "from google.colab import drive\n",
        "drive.mount('/gdrive', force_remount=True)\n",
        "drive.mount('/content/drive')"
      ],
      "execution_count": 3,
      "outputs": [
        {
          "output_type": "stream",
          "name": "stdout",
          "text": [
            "Mounted at /gdrive\n",
            "Mounted at /content/drive\n"
          ]
        }
      ]
    },
    {
      "cell_type": "code",
      "metadata": {
        "id": "6x3HgFIKWw5i"
      },
      "source": [
        "# 파일 불러오기 \n",
        "guide = '/content/drive/MyDrive/Data/환경부가이드라인_전처리완.csv'"
      ],
      "execution_count": 4,
      "outputs": []
    },
    {
      "cell_type": "code",
      "metadata": {
        "id": "czsV8JnGXPMZ"
      },
      "source": [
        "import pandas as pd\n",
        "import numpy as np\n",
        "import matplotlib.pyplot as plt"
      ],
      "execution_count": 5,
      "outputs": []
    },
    {
      "cell_type": "code",
      "metadata": {
        "id": "brUXY2SeXU08"
      },
      "source": [
        "df = pd.read_csv(guide)\n",
        "del df['Unnamed: 0']"
      ],
      "execution_count": 6,
      "outputs": []
    },
    {
      "cell_type": "code",
      "metadata": {
        "colab": {
          "base_uri": "https://localhost:8080/",
          "height": 204
        },
        "id": "xAbE5jhbXbGB",
        "outputId": "53e0249a-26ba-4a54-a7ad-3879243be2b3"
      },
      "source": [
        "df.head()"
      ],
      "execution_count": 7,
      "outputs": [
        {
          "output_type": "execute_result",
          "data": {
            "text/html": [
              "<div>\n",
              "<style scoped>\n",
              "    .dataframe tbody tr th:only-of-type {\n",
              "        vertical-align: middle;\n",
              "    }\n",
              "\n",
              "    .dataframe tbody tr th {\n",
              "        vertical-align: top;\n",
              "    }\n",
              "\n",
              "    .dataframe thead th {\n",
              "        text-align: right;\n",
              "    }\n",
              "</style>\n",
              "<table border=\"1\" class=\"dataframe\">\n",
              "  <thead>\n",
              "    <tr style=\"text-align: right;\">\n",
              "      <th></th>\n",
              "      <th>품목</th>\n",
              "      <th>구분</th>\n",
              "      <th>배출방법</th>\n",
              "    </tr>\n",
              "  </thead>\n",
              "  <tbody>\n",
              "    <tr>\n",
              "      <th>0</th>\n",
              "      <td>가격표</td>\n",
              "      <td>종이</td>\n",
              "      <td>종이류로 배출</td>\n",
              "    </tr>\n",
              "    <tr>\n",
              "      <th>1</th>\n",
              "      <td>가구류</td>\n",
              "      <td>대형</td>\n",
              "      <td>대형폐기물로 배출</td>\n",
              "    </tr>\n",
              "    <tr>\n",
              "      <th>2</th>\n",
              "      <td>가발</td>\n",
              "      <td>종량제봉투</td>\n",
              "      <td>종량제 봉투로 배출</td>\n",
              "    </tr>\n",
              "    <tr>\n",
              "      <th>3</th>\n",
              "      <td>가습기</td>\n",
              "      <td>가전제품</td>\n",
              "      <td>폐가전제품으로 배출</td>\n",
              "    </tr>\n",
              "    <tr>\n",
              "      <th>4</th>\n",
              "      <td>가위</td>\n",
              "      <td>종량제봉투, 재질별분리</td>\n",
              "      <td>재질에 맞게 배출하되, 여러재질이 섞인 경우, 종량제 봉투로 배출</td>\n",
              "    </tr>\n",
              "  </tbody>\n",
              "</table>\n",
              "</div>"
            ],
            "text/plain": [
              "    품목            구분                                  배출방법\n",
              "0  가격표            종이                               종이류로 배출\n",
              "1  가구류            대형                             대형폐기물로 배출\n",
              "2   가발         종량제봉투                            종량제 봉투로 배출\n",
              "3  가습기          가전제품                            폐가전제품으로 배출\n",
              "4   가위  종량제봉투, 재질별분리  재질에 맞게 배출하되, 여러재질이 섞인 경우, 종량제 봉투로 배출"
            ]
          },
          "metadata": {},
          "execution_count": 7
        }
      ]
    },
    {
      "cell_type": "code",
      "metadata": {
        "id": "6bAyJnEHYG3N"
      },
      "source": [
        "# 품목 리스트 생성 \n",
        "item_list = df['품목'].tolist()"
      ],
      "execution_count": 8,
      "outputs": []
    },
    {
      "cell_type": "code",
      "metadata": {
        "colab": {
          "base_uri": "https://localhost:8080/"
        },
        "id": "oyE3tX6ObNO0",
        "outputId": "4cf74911-a553-4cef-b7dd-fd0dfcef27dd"
      },
      "source": [
        "item_list[:5]"
      ],
      "execution_count": 9,
      "outputs": [
        {
          "output_type": "execute_result",
          "data": {
            "text/plain": [
              "['가격표', '가구류', '가발', '가습기', '가위']"
            ]
          },
          "metadata": {},
          "execution_count": 9
        }
      ]
    },
    {
      "cell_type": "code",
      "metadata": {
        "colab": {
          "base_uri": "https://localhost:8080/"
        },
        "id": "JtR9_GFiX4Rt",
        "outputId": "892364d6-84e2-428c-c459-be89f05dbbed"
      },
      "source": [
        "question = '가구류는 어떻게 분리해?'\n",
        "\n",
        "# 사용자가 요청한 내용이 있는 경우 \n",
        "\n",
        "for i in range(len(df['품목'])):\n",
        "  if df['품목'][i] in question:\n",
        "    print(df['배출방법'][i]+'해주세요')"
      ],
      "execution_count": 10,
      "outputs": [
        {
          "output_type": "stream",
          "name": "stdout",
          "text": [
            "대형폐기물로 배출해주세요\n"
          ]
        }
      ]
    },
    {
      "cell_type": "code",
      "metadata": {
        "colab": {
          "base_uri": "https://localhost:8080/"
        },
        "id": "gxcB2MFmX57f",
        "outputId": "5495a824-bb87-4d98-bcd7-06683cda9a4f"
      },
      "source": [
        "# 사용자가 요청한 내용이 없는 경우 - txt 파일로 저장\n",
        "\n",
        "msg = input('제품명을 입력해주세요: ')\n",
        "if msg in item_list:                # 음성으로 인식을 못한 경우, 제품명 text로 입력 받기 \n",
        "  df_new = df[df['품목']== msg]\n",
        "  meth = df_new['배출방법']\n",
        "  method = ' ,'.join(map(str, meth))\n",
        "  print(method + '합니다')\n",
        "else:\n",
        "  aw = input('등록되지 않은 제품입니다. 등록하시겠습니까? ')\n",
        "  if aw == '네':                                        # 제품 등록, 파일 업데이트(txt)\n",
        "    f = open(\"update.txt\", 'a')\n",
        "    f.write(msg)\n",
        "    f.close()\n",
        "  else:\n",
        "    print('서비스를 종료합니다.')"
      ],
      "execution_count": 11,
      "outputs": [
        {
          "output_type": "stream",
          "name": "stdout",
          "text": [
            "제품명을 입력해주세요: 가위\n",
            "재질에 맞게 배출하되, 여러재질이 섞인 경우, 종량제 봉투로 배출합니다\n"
          ]
        }
      ]
    },
    {
      "cell_type": "code",
      "metadata": {
        "colab": {
          "base_uri": "https://localhost:8080/"
        },
        "id": "p31NkQUSX724",
        "outputId": "68e10241-7e92-4e5c-a4ed-df849101537c"
      },
      "source": [
        "# 사용자가 요청한 내용이 없는 경우 - 데이터프레임 업데이트 \n",
        "\n",
        "msg = input('제품명을 입력해주세요: ')    # (1) 음성으로 인식을 못한 경우, 제품명 text로 입력 받기 \n",
        "if msg in item_list:                \n",
        "  df_new = df[df['품목']== msg]\n",
        "  meth = df_new['배출방법']\n",
        "  method = ' ,'.join(map(str, meth))\n",
        "  print(method + '합니다')\n",
        "else:                     # (2) 등록되지 않은 경우       \n",
        "  aw = input('등록되지 않은 제품입니다. 등록하시겠습니까? ')\n",
        "  if aw == '네': \n",
        "    new_data = {'품목': msg, \n",
        "                '구분': '',\n",
        "                '배출방법':''}\n",
        "    df = df.append(new_data, ignore_index=True)  # 제품 등록, 파일 업데이트 (txt)\n",
        "  else:\n",
        "    print('서비스를 종료합니다.')"
      ],
      "execution_count": 12,
      "outputs": [
        {
          "output_type": "stream",
          "name": "stdout",
          "text": [
            "제품명을 입력해주세요: 가위\n",
            "재질에 맞게 배출하되, 여러재질이 섞인 경우, 종량제 봉투로 배출합니다\n"
          ]
        }
      ]
    },
    {
      "cell_type": "markdown",
      "metadata": {
        "id": "7x_n-AOKcbIs"
      },
      "source": [
        "### 함수 작성\n",
        "\n",
        "- 문제점\n",
        "\n",
        "1. '일회용 면도기'와 같이 띄어쓰기로 되어있는 단어 식별 어려움\n",
        "2. '가구류'와 같이 특정한 종목의 분야인 경우 식별 어려움"
      ]
    },
    {
      "cell_type": "code",
      "metadata": {
        "id": "Dh1iRqSigsdj"
      },
      "source": [
        "# 단어 토큰화 및 간단한 조사 제거\n",
        "\n",
        "def token_word(query): # query = '가위는 어떻게 분리해?'\n",
        "  post_word = ['은', '는', '랑', '이랑'] # 제거할 조사\n",
        "  query_split = query.split(' ') # 띄어쓰기로 구분하여 분리 ['가위는', '어떻게', '분리해?']\n",
        "\n",
        "  new_query = [] # 조사가 제거되고 토근화될 단어 리스트\n",
        "  for qs in query_split: # qs = '가위는'\n",
        "    new_ch = ''\n",
        "    \n",
        "    for char in qs: # char => '가' '위' '는'\n",
        "      if char not in post_word:\n",
        "        new_ch += char\n",
        "    \n",
        "    new_query.append(new_ch)\n",
        "  \n",
        "  return new_query"
      ],
      "execution_count": 13,
      "outputs": []
    },
    {
      "cell_type": "code",
      "metadata": {
        "id": "3P8E6-U7hmPd"
      },
      "source": [
        "# 분리된 질문에서 원하는 재활용품의 위치를 찾는 함수\n",
        "\n",
        "def get_item_index(new_query, item_list):\n",
        "  flag = True\n",
        "  idx = -1 # 초기값 -1로 설정함으로써 이후에 flag값으로 사용\n",
        "  if type(new_query) == str:\n",
        "    flag = False\n",
        "\n",
        "  for i in range(len(item_list)): # item_list의 길이만큼 순회하면서 new_quert가 배열인지 str인지에 따라 다른 진행\n",
        "    if flag: # list\n",
        "      for word in new_query:\n",
        "        if word == item_list[i]:\n",
        "          idx = i\n",
        "          break\n",
        "    else: # str\n",
        "      if new_query == item_list[i]:\n",
        "        idx = i\n",
        "        break\n",
        "\n",
        "  return idx      "
      ],
      "execution_count": 14,
      "outputs": []
    },
    {
      "cell_type": "code",
      "metadata": {
        "id": "t5cazb6Qt31c"
      },
      "source": [
        "def how_to_recycle(idx, df):\n",
        "  if idx > -1:\n",
        "    return(f\"{df['품목'][idx]}(은/는) {df['배출방법'][idx]}해주세요\")\n",
        "  else:\n",
        "    msg = input('제대로 인식하지 못했습니다. 제품명을 직접 입력해주세요. : ')\n",
        "    new_idx = get_item_index(msg, item_list)\n",
        "    if new_idx > -1:\n",
        "      return(f\"{df['품목'][new_idx]}(은/는) {df['배출방법'][new_idx]}해주세요\")\n",
        "    else:\n",
        "      aw = input('등록되지 않은 제품입니다. 등록하시겠습니까? (네, 아니오) : ')\n",
        "      if aw == '네':                                        # 제품 등록, 파일 업데이트(txt)\n",
        "        f = open(\"update.txt\", 'a')\n",
        "        f.write(msg)\n",
        "        f.close()\n",
        "\n",
        "        new_data = {'품목': msg, \n",
        "                    '구분': '',\n",
        "                    '배출방법':''}\n",
        "        df = df.append(new_data, ignore_index=True)  # 제품 등록, 파일 업데이트 (txt)\n",
        "      return('서비스를 종료합니다.')"
      ],
      "execution_count": 30,
      "outputs": []
    },
    {
      "cell_type": "code",
      "metadata": {
        "id": "13ioenovcciW"
      },
      "source": [
        "query = '면도기는 어떻게 분리해?'"
      ],
      "execution_count": 25,
      "outputs": []
    },
    {
      "cell_type": "code",
      "metadata": {
        "colab": {
          "base_uri": "https://localhost:8080/",
          "height": 69
        },
        "id": "ue6KNz4gfBhG",
        "outputId": "bc9905a4-c4dd-4d89-afa6-96dc9996e364"
      },
      "source": [
        "new_query = token_word(query)\n",
        "idx = get_item_index(new_query, item_list)\n",
        "how_to_recycle(idx, df)"
      ],
      "execution_count": 26,
      "outputs": [
        {
          "name": "stdout",
          "output_type": "stream",
          "text": [
            "제대로 인식하지 못했습니다. 제품명을 직접 입력해주세요. : 면도기\n",
            "등록되지 않은 제품입니다. 등록하시겠습니까? (네, 아니오) : 네\n"
          ]
        },
        {
          "output_type": "execute_result",
          "data": {
            "application/vnd.google.colaboratory.intrinsic+json": {
              "type": "string"
            },
            "text/plain": [
              "'서비스를 종료합니다.'"
            ]
          },
          "metadata": {},
          "execution_count": 26
        }
      ]
    },
    {
      "cell_type": "markdown",
      "metadata": {
        "id": "khXIVIVA7UtZ"
      },
      "source": [
        "### 네이버 클라우드 적용\n",
        "- 정답만 음성으로 출력? 예외 상황도 음성으로 출력?\n",
        "- test.py파일을 import 해야함 "
      ]
    },
    {
      "cell_type": "code",
      "metadata": {
        "id": "WVe-ugA57WCb"
      },
      "source": [
        "from test import print_voice, text_voice"
      ],
      "execution_count": 2,
      "outputs": []
    },
    {
      "cell_type": "code",
      "metadata": {
        "id": "thl3eCS68ToR"
      },
      "source": [
        "query = print_voice('가위.m4a')"
      ],
      "execution_count": 31,
      "outputs": []
    },
    {
      "cell_type": "code",
      "metadata": {
        "colab": {
          "base_uri": "https://localhost:8080/"
        },
        "id": "ayOcgs3e9B6S",
        "outputId": "d326343b-8557-4ccd-b174-bfc8b544db1b"
      },
      "source": [
        "# 방법 호출 \n",
        "new_query = token_word(query)\n",
        "idx = get_item_index(new_query, item_list)\n",
        "how_to = how_to_recycle(idx, df)\n",
        "text_voice(how_to)"
      ],
      "execution_count": 32,
      "outputs": [
        {
          "output_type": "stream",
          "name": "stdout",
          "text": [
            "200\n"
          ]
        }
      ]
    }
  ]
}